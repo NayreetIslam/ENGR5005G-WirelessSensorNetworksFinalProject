{
 "cells": [
  {
   "cell_type": "code",
   "execution_count": 1,
   "id": "66f70273",
   "metadata": {},
   "outputs": [],
   "source": [
    "import sys\n",
    "from docplex.cp.model import *"
   ]
  },
  {
   "cell_type": "markdown",
   "id": "6c189015",
   "metadata": {},
   "source": [
    "# Scheduling problem to be solved"
   ]
  },
  {
   "cell_type": "code",
   "execution_count": 2,
   "id": "4249f093",
   "metadata": {},
   "outputs": [],
   "source": [
    "MaxNoOfChannel = 4\n",
    "EventNames = {\"Break-Fail\",\"Accident\",\"Jaywalking\",\"Pedestrian-Crossing\",\"Yellow-Light\"}\n",
    "Duration =  [30, 15, 35, 15, 15]\n",
    "AverageTransmissionTime =  [35, 40, 45, 40, 35]\n",
    "NoOfSituations  = 5\n",
    "SituationArrivalTime = [0, 50, 100, 150, 200]"
   ]
  },
  {
   "cell_type": "code",
   "execution_count": 3,
   "id": "fbbb82c3",
   "metadata": {},
   "outputs": [],
   "source": [
    "mdl4 = CpoModel()"
   ]
  },
  {
   "cell_type": "code",
   "execution_count": 4,
   "id": "7de963a1",
   "metadata": {},
   "outputs": [],
   "source": [
    "Situations = range(NoOfSituations)"
   ]
  },
  {
   "cell_type": "code",
   "execution_count": 5,
   "id": "8be6eae1",
   "metadata": {},
   "outputs": [],
   "source": [
    "itvs = {}\n",
    "for h in Situations:\n",
    "    for i,t in enumerate(EventNames):\n",
    "        itvs[h,t] = mdl4.interval_var(start = [SituationArrivalTime[h], INTERVAL_MAX], size=Duration[i])"
   ]
  },
  {
   "cell_type": "markdown",
   "id": "cc120c37",
   "metadata": {},
   "source": [
    "# Defining Event Precedences"
   ]
  },
  {
   "cell_type": "code",
   "execution_count": 6,
   "id": "609b877d",
   "metadata": {},
   "outputs": [],
   "source": [
    "Precedences = [(\"Break-Fail\", \"Accident\"), (\"Break-Fail\", \"Jaywalking\"), (\"Break-Fail\", \"Pedestrian-Crossing\"),\n",
    "               (\"Accident\", \"Pedestrian-Crossing\"), (\"Accident\", \"Yellow-Light\")]"
   ]
  },
  {
   "cell_type": "code",
   "execution_count": 7,
   "id": "5b38b847",
   "metadata": {},
   "outputs": [],
   "source": [
    "channel_usage = step_at(0, 0)\n",
    "for h in Situations:\n",
    "    for t in EventNames:\n",
    "        channel_usage += mdl4.pulse(itvs[h,t],1)"
   ]
  },
  {
   "cell_type": "code",
   "execution_count": 8,
   "id": "1b77b3aa",
   "metadata": {},
   "outputs": [],
   "source": [
    "cash = step_at(0, 0)\n",
    "for p in Situations:\n",
    "    cash += mdl4.step_at(60*p, 30000)\n",
    "\n",
    "for h in Situations:\n",
    "    for i,t in enumerate(EventNames):\n",
    "        cash -= mdl4.step_at_start(itvs[h,t], 200*Duration[i])"
   ]
  },
  {
   "cell_type": "code",
   "execution_count": 9,
   "id": "a9e788cd",
   "metadata": {},
   "outputs": [],
   "source": [
    "for h in Situations:\n",
    "    for p in Precedences:\n",
    "        mdl4.add( mdl4.end_before_start(itvs[h,p[0]], itvs[h,p[1]]) )"
   ]
  },
  {
   "cell_type": "code",
   "execution_count": 10,
   "id": "0ba791eb",
   "metadata": {},
   "outputs": [],
   "source": [
    "mdl4.add( channel_usage <= MaxNoOfChannel )"
   ]
  },
  {
   "cell_type": "code",
   "execution_count": 11,
   "id": "12978417",
   "metadata": {},
   "outputs": [],
   "source": [
    "mdl4.add( cash >= 0 )"
   ]
  },
  {
   "cell_type": "code",
   "execution_count": 12,
   "id": "1ed1e0ba",
   "metadata": {},
   "outputs": [],
   "source": [
    "mdl4.add(\n",
    "    mdl4.minimize( \n",
    "        mdl4.max( mdl4.end_of(itvs[h,\"Yellow-Light\"]) for h in Situations)\n",
    "    )\n",
    ")"
   ]
  },
  {
   "cell_type": "markdown",
   "id": "11067daa",
   "metadata": {},
   "source": [
    "# Solve the model"
   ]
  },
  {
   "cell_type": "code",
   "execution_count": 13,
   "id": "97c9523a",
   "metadata": {},
   "outputs": [
    {
     "name": "stdout",
     "output_type": "stream",
     "text": [
      "\n",
      "Solving model....\n",
      "C:/Users/nayre/AppData/Local/Temp/ipykernel_15816/1349103155.py:1(stream:64:1): Warning: Cumulative expression 'stepAt': height is zero, expression is zero everywhere.\n",
      "                                                                                           stepAt(0, 0)\n",
      "C:/Users/nayre/AppData/Local/Temp/ipykernel_15816/1131574978.py:1(stream:66:1): Warning: Cumulative expression 'stepAt': height is zero, expression is zero everywhere.\n",
      "                                                                                           stepAt(0, 0)\n",
      " ! --------------------------------------------------- CP Optimizer 22.1.0.0 --\n",
      " ! Minimization problem - 25 variables, 27 constraints\n",
      " ! FailLimit            = 30000\n",
      " ! Initial process time : 0.02s (0.02s extraction + 0.00s propagation)\n",
      " !  . Log search space  : 116.1 (before), 116.1 (after)\n",
      " !  . Memory usage      : 763.7 kB (before), 763.7 kB (after)\n",
      " ! Using parallel search with 16 workers.\n",
      " ! ----------------------------------------------------------------------------\n",
      " !          Best Branches  Non-fixed    W       Branch decision\n",
      "                        0         25                 -\n",
      " + New bound is 260\n",
      " *           260       19  0.05s        1      (gap is 0.00%)\n",
      " ! ----------------------------------------------------------------------------\n",
      " ! Search completed, 1 solution found.\n",
      " ! Best objective         : 260 (optimal - effective tol. is 0)\n",
      " ! Best bound             : 260\n",
      " ! ----------------------------------------------------------------------------\n",
      " ! Number of branches     : 252\n",
      " ! Number of fails        : 144\n",
      " ! Total memory usage     : 8.4 MB (8.4 MB CP Optimizer + 0.1 MB Concert)\n",
      " ! Time spent in solve    : 0.05s (0.04s engine + 0.02s extraction)\n",
      " ! Search speed (br. / s) : 7200.0\n",
      " ! ----------------------------------------------------------------------------\n",
      "done\n"
     ]
    }
   ],
   "source": [
    "print(\"\\nSolving model....\")\n",
    "msol4 = mdl4.solve(FailLimit=30000)\n",
    "print(\"done\")"
   ]
  },
  {
   "cell_type": "code",
   "execution_count": 14,
   "id": "e341454d",
   "metadata": {},
   "outputs": [
    {
     "name": "stdout",
     "output_type": "stream",
     "text": [
      "Utilization will be 260\n"
     ]
    }
   ],
   "source": [
    "print(\"Utilization will be \" + str( msol4.get_objective_values()[0] ))"
   ]
  },
  {
   "cell_type": "markdown",
   "id": "1e2622a0",
   "metadata": {},
   "source": [
    "# Visualization"
   ]
  },
  {
   "cell_type": "code",
   "execution_count": 15,
   "id": "3bf08d2d",
   "metadata": {},
   "outputs": [],
   "source": [
    "import docplex.cp.utils_visu as visu\n",
    "import matplotlib.pyplot as plt\n",
    "%matplotlib inline\n",
    "#Change the plot size\n",
    "from pylab import rcParams\n",
    "rcParams['figure.figsize'] = 15, 3"
   ]
  },
  {
   "cell_type": "code",
   "execution_count": 16,
   "id": "97c0ed45",
   "metadata": {},
   "outputs": [
    {
     "data": {
      "image/png": "[encoded data removed]",
      "text/plain": [
       "<Figure size 1080x216 with 3 Axes>"
      ]
     },
     "metadata": {
      "needs_background": "light"
     },
     "output_type": "display_data"
    }
   ],
   "source": [
    "workersF = CpoStepFunction()\n",
    "cashF = CpoStepFunction()\n",
    "for p in range(5):\n",
    "    cashF.add_value(6 * p, INT_MAX, 3000)\n",
    "for h in Situations:\n",
    "    for i,t in enumerate(EventNames):\n",
    "        itv = msol4.get_var_solution(itvs[h,t])\n",
    "        workersF.add_value(itv.get_start(), itv.get_end(), 1)\n",
    "        cashF.add_value(itv.start, INT_MAX, -20 * Duration[i])\n",
    "\n",
    "visu.timeline('Solution SchedCumul')\n",
    "visu.panel(name=\"Schedule\")\n",
    "for h in Situations:\n",
    "    for i,t in enumerate(EventNames):\n",
    "        visu.interval(msol4.get_var_solution(itvs[h,t]), h, t)\n",
    "visu.panel(name=\"Channels\")\n",
    "visu.function(segments=workersF, style='area')\n",
    "visu.panel(name=\"Cost\")\n",
    "visu.function(segments=cashF, style='area', color='gold')\n",
    "visu.show()"
   ]
  },
  {
   "cell_type": "code",
   "execution_count": null,
   "id": "bd6fba87",
   "metadata": {},
   "outputs": [],
   "source": []
  }
 ],
 "metadata": {
  "kernelspec": {
   "display_name": "Python 3 (ipykernel)",
   "language": "python",
   "name": "python3"
  },
  "language_info": {
   "codemirror_mode": {
    "name": "ipython",
    "version": 3
   },
   "file_extension": ".py",
   "mimetype": "text/x-python",
   "name": "python",
   "nbconvert_exporter": "python",
   "pygments_lexer": "ipython3",
   "version": "3.8.0"
  }
 },
 "nbformat": 4,
 "nbformat_minor": 5
}
